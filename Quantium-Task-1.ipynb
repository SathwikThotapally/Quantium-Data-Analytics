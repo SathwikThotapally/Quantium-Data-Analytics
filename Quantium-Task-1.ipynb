{
 "cells": [
  {
   "cell_type": "markdown",
   "id": "3f7c3d4f-e248-45cb-af09-aa6db98c9467",
   "metadata": {},
   "source": [
    "### Importing the required libraries"
   ]
  },
  {
   "cell_type": "code",
   "execution_count": 1,
   "id": "1efceb4d-cf17-4393-af3c-762542aa7d70",
   "metadata": {},
   "outputs": [],
   "source": [
    "import numpy as np\n",
    "import pandas as pd\n",
    "import matplotlib.pyplot as plt\n",
    "%matplotlib inline\n",
    "import seaborn as sns\n",
    "import re"
   ]
  },
  {
   "cell_type": "markdown",
   "id": "a80cc11d-55b1-4df7-a5d4-e5cfa4347ff0",
   "metadata": {},
   "source": [
    "#### Transaction Dataset"
   ]
  },
  {
   "cell_type": "markdown",
   "id": "015f2e18-e65d-48e8-8432-2f5b5da9f61c",
   "metadata": {},
   "source": [
    "### Loading the Dataset"
   ]
  },
  {
   "cell_type": "code",
   "execution_count": 2,
   "id": "5d5544e1-3ef6-4bcb-a65f-0f605986c00c",
   "metadata": {},
   "outputs": [
    {
     "data": {
      "text/html": [
       "<div>\n",
       "<style scoped>\n",
       "    .dataframe tbody tr th:only-of-type {\n",
       "        vertical-align: middle;\n",
       "    }\n",
       "\n",
       "    .dataframe tbody tr th {\n",
       "        vertical-align: top;\n",
       "    }\n",
       "\n",
       "    .dataframe thead th {\n",
       "        text-align: right;\n",
       "    }\n",
       "</style>\n",
       "<table border=\"1\" class=\"dataframe\">\n",
       "  <thead>\n",
       "    <tr style=\"text-align: right;\">\n",
       "      <th></th>\n",
       "      <th>DATE</th>\n",
       "      <th>STORE_NBR</th>\n",
       "      <th>LYLTY_CARD_NBR</th>\n",
       "      <th>TXN_ID</th>\n",
       "      <th>PROD_NBR</th>\n",
       "      <th>PROD_NAME</th>\n",
       "      <th>PROD_QTY</th>\n",
       "      <th>TOT_SALES</th>\n",
       "    </tr>\n",
       "  </thead>\n",
       "  <tbody>\n",
       "    <tr>\n",
       "      <th>0</th>\n",
       "      <td>43390</td>\n",
       "      <td>1</td>\n",
       "      <td>1000</td>\n",
       "      <td>1</td>\n",
       "      <td>5</td>\n",
       "      <td>Natural Chip        Compny SeaSalt175g</td>\n",
       "      <td>2</td>\n",
       "      <td>6.0</td>\n",
       "    </tr>\n",
       "    <tr>\n",
       "      <th>1</th>\n",
       "      <td>43599</td>\n",
       "      <td>1</td>\n",
       "      <td>1307</td>\n",
       "      <td>348</td>\n",
       "      <td>66</td>\n",
       "      <td>CCs Nacho Cheese    175g</td>\n",
       "      <td>3</td>\n",
       "      <td>6.3</td>\n",
       "    </tr>\n",
       "    <tr>\n",
       "      <th>2</th>\n",
       "      <td>43605</td>\n",
       "      <td>1</td>\n",
       "      <td>1343</td>\n",
       "      <td>383</td>\n",
       "      <td>61</td>\n",
       "      <td>Smiths Crinkle Cut  Chips Chicken 170g</td>\n",
       "      <td>2</td>\n",
       "      <td>2.9</td>\n",
       "    </tr>\n",
       "    <tr>\n",
       "      <th>3</th>\n",
       "      <td>43329</td>\n",
       "      <td>2</td>\n",
       "      <td>2373</td>\n",
       "      <td>974</td>\n",
       "      <td>69</td>\n",
       "      <td>Smiths Chip Thinly  S/Cream&amp;Onion 175g</td>\n",
       "      <td>5</td>\n",
       "      <td>15.0</td>\n",
       "    </tr>\n",
       "    <tr>\n",
       "      <th>4</th>\n",
       "      <td>43330</td>\n",
       "      <td>2</td>\n",
       "      <td>2426</td>\n",
       "      <td>1038</td>\n",
       "      <td>108</td>\n",
       "      <td>Kettle Tortilla ChpsHny&amp;Jlpno Chili 150g</td>\n",
       "      <td>3</td>\n",
       "      <td>13.8</td>\n",
       "    </tr>\n",
       "  </tbody>\n",
       "</table>\n",
       "</div>"
      ],
      "text/plain": [
       "    DATE  STORE_NBR  LYLTY_CARD_NBR  TXN_ID  PROD_NBR  \\\n",
       "0  43390          1            1000       1         5   \n",
       "1  43599          1            1307     348        66   \n",
       "2  43605          1            1343     383        61   \n",
       "3  43329          2            2373     974        69   \n",
       "4  43330          2            2426    1038       108   \n",
       "\n",
       "                                  PROD_NAME  PROD_QTY  TOT_SALES  \n",
       "0    Natural Chip        Compny SeaSalt175g         2        6.0  \n",
       "1                  CCs Nacho Cheese    175g         3        6.3  \n",
       "2    Smiths Crinkle Cut  Chips Chicken 170g         2        2.9  \n",
       "3    Smiths Chip Thinly  S/Cream&Onion 175g         5       15.0  \n",
       "4  Kettle Tortilla ChpsHny&Jlpno Chili 150g         3       13.8  "
      ]
     },
     "execution_count": 2,
     "metadata": {},
     "output_type": "execute_result"
    }
   ],
   "source": [
    "# Loading the dataset\n",
    "transaction_data = pd.read_excel('QVI_transaction_data.xlsx')\n",
    "\n",
    "# Loading first few values\n",
    "transaction_data.head()"
   ]
  },
  {
   "cell_type": "markdown",
   "id": "8d912291-78ab-46aa-bb17-0e4829bbb84e",
   "metadata": {},
   "source": [
    "#### Customer Behaviour Dataset"
   ]
  },
  {
   "cell_type": "code",
   "execution_count": 18,
   "id": "1b2bbe3c-fc7d-41d1-8e92-a51c38ed141f",
   "metadata": {},
   "outputs": [
    {
     "data": {
      "text/html": [
       "<div>\n",
       "<style scoped>\n",
       "    .dataframe tbody tr th:only-of-type {\n",
       "        vertical-align: middle;\n",
       "    }\n",
       "\n",
       "    .dataframe tbody tr th {\n",
       "        vertical-align: top;\n",
       "    }\n",
       "\n",
       "    .dataframe thead th {\n",
       "        text-align: right;\n",
       "    }\n",
       "</style>\n",
       "<table border=\"1\" class=\"dataframe\">\n",
       "  <thead>\n",
       "    <tr style=\"text-align: right;\">\n",
       "      <th></th>\n",
       "      <th>LYLTY_CARD_NBR</th>\n",
       "      <th>LIFESTAGE</th>\n",
       "      <th>PREMIUM_CUSTOMER</th>\n",
       "    </tr>\n",
       "  </thead>\n",
       "  <tbody>\n",
       "    <tr>\n",
       "      <th>0</th>\n",
       "      <td>1000</td>\n",
       "      <td>YOUNG SINGLES/COUPLES</td>\n",
       "      <td>Premium</td>\n",
       "    </tr>\n",
       "    <tr>\n",
       "      <th>1</th>\n",
       "      <td>1002</td>\n",
       "      <td>YOUNG SINGLES/COUPLES</td>\n",
       "      <td>Mainstream</td>\n",
       "    </tr>\n",
       "    <tr>\n",
       "      <th>2</th>\n",
       "      <td>1003</td>\n",
       "      <td>YOUNG FAMILIES</td>\n",
       "      <td>Budget</td>\n",
       "    </tr>\n",
       "    <tr>\n",
       "      <th>3</th>\n",
       "      <td>1004</td>\n",
       "      <td>OLDER SINGLES/COUPLES</td>\n",
       "      <td>Mainstream</td>\n",
       "    </tr>\n",
       "    <tr>\n",
       "      <th>4</th>\n",
       "      <td>1005</td>\n",
       "      <td>MIDAGE SINGLES/COUPLES</td>\n",
       "      <td>Mainstream</td>\n",
       "    </tr>\n",
       "  </tbody>\n",
       "</table>\n",
       "</div>"
      ],
      "text/plain": [
       "   LYLTY_CARD_NBR               LIFESTAGE PREMIUM_CUSTOMER\n",
       "0            1000   YOUNG SINGLES/COUPLES          Premium\n",
       "1            1002   YOUNG SINGLES/COUPLES       Mainstream\n",
       "2            1003          YOUNG FAMILIES           Budget\n",
       "3            1004   OLDER SINGLES/COUPLES       Mainstream\n",
       "4            1005  MIDAGE SINGLES/COUPLES       Mainstream"
      ]
     },
     "execution_count": 18,
     "metadata": {},
     "output_type": "execute_result"
    }
   ],
   "source": [
    "customer_data = pd.read_csv('QVI_purchase_behaviour.csv')\n",
    "customer_data.head()"
   ]
  },
  {
   "cell_type": "markdown",
   "id": "5c7d8dd8-a8dc-4051-9642-540ed47c0935",
   "metadata": {},
   "source": [
    "### Summarization of Dataset (customer behaviour)"
   ]
  },
  {
   "cell_type": "code",
   "execution_count": 19,
   "id": "f48d4f7d-0346-413f-8e91-b7e777ac99b7",
   "metadata": {},
   "outputs": [
    {
     "name": "stdout",
     "output_type": "stream",
     "text": [
      "<class 'pandas.core.frame.DataFrame'>\n",
      "RangeIndex: 72637 entries, 0 to 72636\n",
      "Data columns (total 3 columns):\n",
      " #   Column            Non-Null Count  Dtype \n",
      "---  ------            --------------  ----- \n",
      " 0   LYLTY_CARD_NBR    72637 non-null  int64 \n",
      " 1   LIFESTAGE         72637 non-null  object\n",
      " 2   PREMIUM_CUSTOMER  72637 non-null  object\n",
      "dtypes: int64(1), object(2)\n",
      "memory usage: 1.7+ MB\n"
     ]
    }
   ],
   "source": [
    "customer_data.info()"
   ]
  },
  {
   "cell_type": "code",
   "execution_count": 20,
   "id": "c145ead3-244b-44ba-a7f8-aa52e7267a9a",
   "metadata": {},
   "outputs": [
    {
     "data": {
      "text/html": [
       "<div>\n",
       "<style scoped>\n",
       "    .dataframe tbody tr th:only-of-type {\n",
       "        vertical-align: middle;\n",
       "    }\n",
       "\n",
       "    .dataframe tbody tr th {\n",
       "        vertical-align: top;\n",
       "    }\n",
       "\n",
       "    .dataframe thead th {\n",
       "        text-align: right;\n",
       "    }\n",
       "</style>\n",
       "<table border=\"1\" class=\"dataframe\">\n",
       "  <thead>\n",
       "    <tr style=\"text-align: right;\">\n",
       "      <th></th>\n",
       "      <th>LYLTY_CARD_NBR</th>\n",
       "    </tr>\n",
       "  </thead>\n",
       "  <tbody>\n",
       "    <tr>\n",
       "      <th>count</th>\n",
       "      <td>7.263700e+04</td>\n",
       "    </tr>\n",
       "    <tr>\n",
       "      <th>mean</th>\n",
       "      <td>1.361859e+05</td>\n",
       "    </tr>\n",
       "    <tr>\n",
       "      <th>std</th>\n",
       "      <td>8.989293e+04</td>\n",
       "    </tr>\n",
       "    <tr>\n",
       "      <th>min</th>\n",
       "      <td>1.000000e+03</td>\n",
       "    </tr>\n",
       "    <tr>\n",
       "      <th>25%</th>\n",
       "      <td>6.620200e+04</td>\n",
       "    </tr>\n",
       "    <tr>\n",
       "      <th>50%</th>\n",
       "      <td>1.340400e+05</td>\n",
       "    </tr>\n",
       "    <tr>\n",
       "      <th>75%</th>\n",
       "      <td>2.033750e+05</td>\n",
       "    </tr>\n",
       "    <tr>\n",
       "      <th>max</th>\n",
       "      <td>2.373711e+06</td>\n",
       "    </tr>\n",
       "  </tbody>\n",
       "</table>\n",
       "</div>"
      ],
      "text/plain": [
       "       LYLTY_CARD_NBR\n",
       "count    7.263700e+04\n",
       "mean     1.361859e+05\n",
       "std      8.989293e+04\n",
       "min      1.000000e+03\n",
       "25%      6.620200e+04\n",
       "50%      1.340400e+05\n",
       "75%      2.033750e+05\n",
       "max      2.373711e+06"
      ]
     },
     "execution_count": 20,
     "metadata": {},
     "output_type": "execute_result"
    }
   ],
   "source": [
    "customer_data.describe()"
   ]
  },
  {
   "cell_type": "markdown",
   "id": "89b88827-8f60-4838-a63d-e85cae53e35a",
   "metadata": {},
   "source": [
    "### Handling missind data (if missing data is present)"
   ]
  },
  {
   "cell_type": "code",
   "execution_count": 21,
   "id": "1f272531-2f1f-4ec7-b692-9d93fd70efbe",
   "metadata": {},
   "outputs": [
    {
     "data": {
      "text/plain": [
       "LYLTY_CARD_NBR      0\n",
       "LIFESTAGE           0\n",
       "PREMIUM_CUSTOMER    0\n",
       "dtype: int64"
      ]
     },
     "execution_count": 21,
     "metadata": {},
     "output_type": "execute_result"
    }
   ],
   "source": [
    "customer_data.isnull().sum()"
   ]
  },
  {
   "cell_type": "markdown",
   "id": "b7589c61-4902-4f36-9028-8e71b60c86a2",
   "metadata": {},
   "source": [
    "### Summarization of Dataset (transaction data)"
   ]
  },
  {
   "cell_type": "code",
   "execution_count": 3,
   "id": "e7187248-a774-4289-895c-17fafc8fcdd3",
   "metadata": {},
   "outputs": [
    {
     "data": {
      "text/html": [
       "<div>\n",
       "<style scoped>\n",
       "    .dataframe tbody tr th:only-of-type {\n",
       "        vertical-align: middle;\n",
       "    }\n",
       "\n",
       "    .dataframe tbody tr th {\n",
       "        vertical-align: top;\n",
       "    }\n",
       "\n",
       "    .dataframe thead th {\n",
       "        text-align: right;\n",
       "    }\n",
       "</style>\n",
       "<table border=\"1\" class=\"dataframe\">\n",
       "  <thead>\n",
       "    <tr style=\"text-align: right;\">\n",
       "      <th></th>\n",
       "      <th>DATE</th>\n",
       "      <th>STORE_NBR</th>\n",
       "      <th>LYLTY_CARD_NBR</th>\n",
       "      <th>TXN_ID</th>\n",
       "      <th>PROD_NBR</th>\n",
       "      <th>PROD_QTY</th>\n",
       "      <th>TOT_SALES</th>\n",
       "    </tr>\n",
       "  </thead>\n",
       "  <tbody>\n",
       "    <tr>\n",
       "      <th>count</th>\n",
       "      <td>264836.000000</td>\n",
       "      <td>264836.00000</td>\n",
       "      <td>2.648360e+05</td>\n",
       "      <td>2.648360e+05</td>\n",
       "      <td>264836.000000</td>\n",
       "      <td>264836.000000</td>\n",
       "      <td>264836.000000</td>\n",
       "    </tr>\n",
       "    <tr>\n",
       "      <th>mean</th>\n",
       "      <td>43464.036260</td>\n",
       "      <td>135.08011</td>\n",
       "      <td>1.355495e+05</td>\n",
       "      <td>1.351583e+05</td>\n",
       "      <td>56.583157</td>\n",
       "      <td>1.907309</td>\n",
       "      <td>7.304200</td>\n",
       "    </tr>\n",
       "    <tr>\n",
       "      <th>std</th>\n",
       "      <td>105.389282</td>\n",
       "      <td>76.78418</td>\n",
       "      <td>8.057998e+04</td>\n",
       "      <td>7.813303e+04</td>\n",
       "      <td>32.826638</td>\n",
       "      <td>0.643654</td>\n",
       "      <td>3.083226</td>\n",
       "    </tr>\n",
       "    <tr>\n",
       "      <th>min</th>\n",
       "      <td>43282.000000</td>\n",
       "      <td>1.00000</td>\n",
       "      <td>1.000000e+03</td>\n",
       "      <td>1.000000e+00</td>\n",
       "      <td>1.000000</td>\n",
       "      <td>1.000000</td>\n",
       "      <td>1.500000</td>\n",
       "    </tr>\n",
       "    <tr>\n",
       "      <th>25%</th>\n",
       "      <td>43373.000000</td>\n",
       "      <td>70.00000</td>\n",
       "      <td>7.002100e+04</td>\n",
       "      <td>6.760150e+04</td>\n",
       "      <td>28.000000</td>\n",
       "      <td>2.000000</td>\n",
       "      <td>5.400000</td>\n",
       "    </tr>\n",
       "    <tr>\n",
       "      <th>50%</th>\n",
       "      <td>43464.000000</td>\n",
       "      <td>130.00000</td>\n",
       "      <td>1.303575e+05</td>\n",
       "      <td>1.351375e+05</td>\n",
       "      <td>56.000000</td>\n",
       "      <td>2.000000</td>\n",
       "      <td>7.400000</td>\n",
       "    </tr>\n",
       "    <tr>\n",
       "      <th>75%</th>\n",
       "      <td>43555.000000</td>\n",
       "      <td>203.00000</td>\n",
       "      <td>2.030942e+05</td>\n",
       "      <td>2.027012e+05</td>\n",
       "      <td>85.000000</td>\n",
       "      <td>2.000000</td>\n",
       "      <td>9.200000</td>\n",
       "    </tr>\n",
       "    <tr>\n",
       "      <th>max</th>\n",
       "      <td>43646.000000</td>\n",
       "      <td>272.00000</td>\n",
       "      <td>2.373711e+06</td>\n",
       "      <td>2.415841e+06</td>\n",
       "      <td>114.000000</td>\n",
       "      <td>200.000000</td>\n",
       "      <td>650.000000</td>\n",
       "    </tr>\n",
       "  </tbody>\n",
       "</table>\n",
       "</div>"
      ],
      "text/plain": [
       "                DATE     STORE_NBR  LYLTY_CARD_NBR        TXN_ID  \\\n",
       "count  264836.000000  264836.00000    2.648360e+05  2.648360e+05   \n",
       "mean    43464.036260     135.08011    1.355495e+05  1.351583e+05   \n",
       "std       105.389282      76.78418    8.057998e+04  7.813303e+04   \n",
       "min     43282.000000       1.00000    1.000000e+03  1.000000e+00   \n",
       "25%     43373.000000      70.00000    7.002100e+04  6.760150e+04   \n",
       "50%     43464.000000     130.00000    1.303575e+05  1.351375e+05   \n",
       "75%     43555.000000     203.00000    2.030942e+05  2.027012e+05   \n",
       "max     43646.000000     272.00000    2.373711e+06  2.415841e+06   \n",
       "\n",
       "            PROD_NBR       PROD_QTY      TOT_SALES  \n",
       "count  264836.000000  264836.000000  264836.000000  \n",
       "mean       56.583157       1.907309       7.304200  \n",
       "std        32.826638       0.643654       3.083226  \n",
       "min         1.000000       1.000000       1.500000  \n",
       "25%        28.000000       2.000000       5.400000  \n",
       "50%        56.000000       2.000000       7.400000  \n",
       "75%        85.000000       2.000000       9.200000  \n",
       "max       114.000000     200.000000     650.000000  "
      ]
     },
     "execution_count": 3,
     "metadata": {},
     "output_type": "execute_result"
    }
   ],
   "source": [
    "# describing the statistics\n",
    "transaction_data.describe()"
   ]
  },
  {
   "cell_type": "code",
   "execution_count": 4,
   "id": "8513352d-8007-423b-bbfb-32161702f802",
   "metadata": {},
   "outputs": [
    {
     "name": "stdout",
     "output_type": "stream",
     "text": [
      "<class 'pandas.core.frame.DataFrame'>\n",
      "RangeIndex: 264836 entries, 0 to 264835\n",
      "Data columns (total 8 columns):\n",
      " #   Column          Non-Null Count   Dtype  \n",
      "---  ------          --------------   -----  \n",
      " 0   DATE            264836 non-null  int64  \n",
      " 1   STORE_NBR       264836 non-null  int64  \n",
      " 2   LYLTY_CARD_NBR  264836 non-null  int64  \n",
      " 3   TXN_ID          264836 non-null  int64  \n",
      " 4   PROD_NBR        264836 non-null  int64  \n",
      " 5   PROD_NAME       264836 non-null  object \n",
      " 6   PROD_QTY        264836 non-null  int64  \n",
      " 7   TOT_SALES       264836 non-null  float64\n",
      "dtypes: float64(1), int64(6), object(1)\n",
      "memory usage: 16.2+ MB\n"
     ]
    }
   ],
   "source": [
    "transaction_data.info()"
   ]
  },
  {
   "cell_type": "markdown",
   "id": "898d0759-8991-4659-9433-fc1f20dcc29f",
   "metadata": {},
   "source": [
    "### Checking Duplicates"
   ]
  },
  {
   "cell_type": "code",
   "execution_count": 5,
   "id": "846c0b09-8056-4b35-922c-db00f7b2834b",
   "metadata": {},
   "outputs": [
    {
     "name": "stdout",
     "output_type": "stream",
     "text": [
      "1\n"
     ]
    }
   ],
   "source": [
    "print(transaction_data.duplicated().sum())"
   ]
  },
  {
   "cell_type": "markdown",
   "id": "bfe030e5-419b-4c10-a3ab-cfe0490ea6ce",
   "metadata": {},
   "source": [
    "### Handling Missing Data (if missing data is present)"
   ]
  },
  {
   "cell_type": "code",
   "execution_count": 6,
   "id": "bed2280f-4b3c-4fbf-9813-95c527839a20",
   "metadata": {},
   "outputs": [
    {
     "data": {
      "text/plain": [
       "DATE              0\n",
       "STORE_NBR         0\n",
       "LYLTY_CARD_NBR    0\n",
       "TXN_ID            0\n",
       "PROD_NBR          0\n",
       "PROD_NAME         0\n",
       "PROD_QTY          0\n",
       "TOT_SALES         0\n",
       "dtype: int64"
      ]
     },
     "execution_count": 6,
     "metadata": {},
     "output_type": "execute_result"
    }
   ],
   "source": [
    "# Checking nulls\n",
    "transaction_data.isnull().sum()"
   ]
  },
  {
   "cell_type": "markdown",
   "id": "745e0d5c-59b5-4b68-a189-2335d0c5cee6",
   "metadata": {},
   "source": [
    "### Checking for Outliers"
   ]
  },
  {
   "cell_type": "code",
   "execution_count": 7,
   "id": "e1c7f71f-b5be-4f09-8e5c-b669cf083a70",
   "metadata": {},
   "outputs": [
    {
     "data": {
      "image/png": "[encoded data removed]",
      "text/plain": [
       "<Figure size 1500x500 with 2 Axes>"
      ]
     },
     "metadata": {},
     "output_type": "display_data"
    }
   ],
   "source": [
    "# Checking for outliers\n",
    "figure, axis = plt.subplots(1,2,figsize=(15,5))\n",
    "axis[0].boxplot(transaction_data['TOT_SALES'])\n",
    "axis[1].boxplot(transaction_data['PROD_QTY'])\n",
    "axis[0].set_title('TOT_SALES')\n",
    "axis[1].set_title('PROD_QTY')\n",
    "plt.show()\n",
    "                           "
   ]
  },
  {
   "cell_type": "code",
   "execution_count": 8,
   "id": "69bcabb7-7155-4728-8c89-09e9ddf5326c",
   "metadata": {},
   "outputs": [
    {
     "name": "stdout",
     "output_type": "stream",
     "text": [
      "264834\n"
     ]
    }
   ],
   "source": [
    "# removing outliers\n",
    "transaction_data = transaction_data[transaction_data['TOT_SALES'] < 500]\n",
    "transaction_data = transaction_data[transaction_data['PROD_QTY'] < 100]\n",
    "transaction_data = transaction_data.reset_index(drop = True)\n",
    "print(transaction_data.shape[0])"
   ]
  },
  {
   "cell_type": "markdown",
   "id": "519bd0ae-c274-47d6-b000-628342665b40",
   "metadata": {},
   "source": [
    "##### Two rows are removed from the dataset"
   ]
  },
  {
   "cell_type": "code",
   "execution_count": 9,
   "id": "c2cd8992-6984-4662-9593-e226e1ecff48",
   "metadata": {},
   "outputs": [
    {
     "data": {
      "text/plain": [
       "<AxesSubplot: xlabel='TOT_SALES'>"
      ]
     },
     "execution_count": 9,
     "metadata": {},
     "output_type": "execute_result"
    },
    {
     "data": {
      "image/png": "[encoded data removed]",
      "text/plain": [
       "<Figure size 640x480 with 1 Axes>"
      ]
     },
     "metadata": {},
     "output_type": "display_data"
    }
   ],
   "source": [
    "sns.boxplot(x = transaction_data['TOT_SALES'])"
   ]
  },
  {
   "cell_type": "markdown",
   "id": "008363a2-8e04-46a8-911f-3723e81e84df",
   "metadata": {},
   "source": [
    "### Calculating number of unique products"
   ]
  },
  {
   "cell_type": "code",
   "execution_count": 10,
   "id": "12d96ed4-e6ac-4cf8-9f08-f6bcf7603bac",
   "metadata": {},
   "outputs": [
    {
     "name": "stdout",
     "output_type": "stream",
     "text": [
      "Total unique products : 114 \n"
     ]
    }
   ],
   "source": [
    "# Checking the number of unique products\n",
    "unique_products = list(transaction_data['PROD_NAME'].unique())\n",
    "print(f\"Total unique products : {len(unique_products)} \") "
   ]
  },
  {
   "cell_type": "markdown",
   "id": "57c24f36-ca6f-4a93-866a-99e297e3d384",
   "metadata": {},
   "source": [
    "### Extract Additional Features (Pack Size & Brand Name)"
   ]
  },
  {
   "cell_type": "code",
   "execution_count": 11,
   "id": "4977e23c-e30d-4616-b00f-cd2b08a4f26f",
   "metadata": {},
   "outputs": [
    {
     "name": "stdout",
     "output_type": "stream",
     "text": [
      "                                  PROD_NAME  \\\n",
      "0    Natural Chip        Compny SeaSalt175g   \n",
      "1                  CCs Nacho Cheese    175g   \n",
      "2    Smiths Crinkle Cut  Chips Chicken 170g   \n",
      "5  Old El Paso Salsa   Dip Tomato Mild 300g   \n",
      "7     Grain Waves         Sweet Chilli 210g   \n",
      "\n",
      "                                  Brand Pack_Size  \n",
      "0    Natural Chip        Compny SeaSalt      175g  \n",
      "1                  CCs Nacho Cheese          175g  \n",
      "2    Smiths Crinkle Cut  Chips Chicken       170g  \n",
      "5  Old El Paso Salsa   Dip Tomato Mild       300g  \n",
      "7     Grain Waves         Sweet Chilli       210g  \n"
     ]
    }
   ],
   "source": [
    "# Extract Brand Name (everything before the pack size)\n",
    "transaction_data['Brand'] = transaction_data['PROD_NAME'].str.extract(r'(^[A-Za-z\\s]+)(?=\\d+g|\\d+kg)')\n",
    "\n",
    "# Extract Pack Size (last digits followed by \"g\" or \"kg\")\n",
    "transaction_data['Pack_Size'] = transaction_data['PROD_NAME'].str.extract(r'(\\d+(?:g|kg))')\n",
    "\n",
    "# Optionally: Remove any rows with missing brand or pack size information\n",
    "transaction_data = transaction_data.dropna(subset=['Brand', 'Pack_Size'])\n",
    "\n",
    "# Check the result\n",
    "print(transaction_data[['PROD_NAME', 'Brand', 'Pack_Size']].head())\n"
   ]
  },
  {
   "cell_type": "markdown",
   "id": "086e29b4-2c5a-418f-aa58-93bc8a91d0e8",
   "metadata": {},
   "source": [
    "### Deriving Metrics of Interest"
   ]
  },
  {
   "cell_type": "markdown",
   "id": "5c872abd-318f-4097-bcba-82faac9c2fab",
   "metadata": {},
   "source": [
    "#### 1) Total spend per customer"
   ]
  },
  {
   "cell_type": "code",
   "execution_count": 12,
   "id": "20775bb4-04f4-4983-bf2e-9a1488ac0dd7",
   "metadata": {},
   "outputs": [
    {
     "name": "stdout",
     "output_type": "stream",
     "text": [
      "   LYLTY_CARD_NBR  TOT_SALES\n",
      "0            1000        6.0\n",
      "1            1003        3.0\n",
      "2            1004        1.9\n",
      "3            1005        2.8\n",
      "4            1007        2.7\n"
     ]
    }
   ],
   "source": [
    "# Total spend per customer (sum of TOT_SALES for each customer)\n",
    "customer_spend = transaction_data.groupby('LYLTY_CARD_NBR')['TOT_SALES'].sum().reset_index()\n",
    "\n",
    "# Check the result\n",
    "print(customer_spend.head())"
   ]
  },
  {
   "cell_type": "markdown",
   "id": "78bf39b5-dfbb-4b20-8532-af879f3487bf",
   "metadata": {},
   "source": [
    "#### 2) Average spend per product"
   ]
  },
  {
   "cell_type": "code",
   "execution_count": 13,
   "id": "b24e1170-bdad-4d58-8824-6baf8f9c50c9",
   "metadata": {},
   "outputs": [
    {
     "name": "stdout",
     "output_type": "stream",
     "text": [
      "                                  PROD_NAME  Avg_Spend_Per_Product\n",
      "0    Natural Chip        Compny SeaSalt175g                   3.00\n",
      "1                  CCs Nacho Cheese    175g                   2.10\n",
      "2    Smiths Crinkle Cut  Chips Chicken 170g                   1.45\n",
      "5  Old El Paso Salsa   Dip Tomato Mild 300g                   5.10\n",
      "7     Grain Waves         Sweet Chilli 210g                   3.60\n"
     ]
    }
   ],
   "source": [
    "# Calculate average spend per product\n",
    "transaction_data['Avg_Spend_Per_Product'] = transaction_data['TOT_SALES'] / transaction_data['PROD_QTY']\n",
    "\n",
    "# Check the result\n",
    "print(transaction_data[['PROD_NAME', 'Avg_Spend_Per_Product']].head())"
   ]
  },
  {
   "cell_type": "markdown",
   "id": "1ea0cc1f-2825-418b-b9ff-69add1030537",
   "metadata": {},
   "source": [
    "#### 3) Pack Size Preferences"
   ]
  },
  {
   "cell_type": "code",
   "execution_count": 14,
   "id": "432884d9-e761-4216-8af6-20294dbc87b4",
   "metadata": {},
   "outputs": [
    {
     "name": "stdout",
     "output_type": "stream",
     "text": [
      "   Pack_Size  TOT_SALES\n",
      "0       110g    93347.0\n",
      "1       125g     5733.0\n",
      "2       134g   155178.0\n",
      "3       135g    26090.4\n",
      "4       150g   111767.0\n",
      "5       160g     5323.8\n",
      "6       165g    49894.4\n",
      "7       170g   130575.1\n",
      "8       175g   340333.4\n",
      "9       190g     5169.6\n",
      "10      200g    10757.8\n",
      "11      210g    21700.8\n",
      "12      220g     6831.0\n",
      "13      250g    26096.7\n",
      "14      270g    55425.4\n",
      "15      300g   113330.6\n",
      "16      330g   101990.1\n",
      "17      380g    75419.6\n",
      "18       70g     6852.0\n"
     ]
    }
   ],
   "source": [
    "# Sum of sales by pack size\n",
    "pack_size_sales = transaction_data.groupby('Pack_Size')['TOT_SALES'].sum().reset_index()\n",
    "\n",
    "# Check the result\n",
    "print(pack_size_sales)"
   ]
  },
  {
   "cell_type": "markdown",
   "id": "b360df67-b632-4609-8f0f-fb5bbdab7419",
   "metadata": {},
   "source": [
    "#### 4) Brand Preferences"
   ]
  },
  {
   "cell_type": "code",
   "execution_count": 15,
   "id": "3cdb0dfd-a155-4520-bdf0-bfb84db55012",
   "metadata": {},
   "outputs": [
    {
     "name": "stdout",
     "output_type": "stream",
     "text": [
      "                              Brand  TOT_SALES\n",
      "0                     Burger Rings      6831.0\n",
      "1              CCs Nacho Cheese         5961.9\n",
      "2                     CCs Original      6048.0\n",
      "3              CCs Tasty Cheese         6069.0\n",
      "4                    Cheetos Puffs      7641.2\n",
      "..                              ...        ...\n",
      "69       WW Original Stacked Chips      5323.8\n",
      "70  WW Supreme Cheese   Corn Chips      5390.3\n",
      "71       Woolworths Cheese   Rings      5169.6\n",
      "72       Woolworths Medium   Salsa      4050.0\n",
      "73       Woolworths Mild     Salsa      4234.5\n",
      "\n",
      "[74 rows x 2 columns]\n"
     ]
    }
   ],
   "source": [
    "# Sum of sales by brand\n",
    "brand_sales = transaction_data.groupby('Brand')['TOT_SALES'].sum().reset_index()\n",
    "\n",
    "# Check the result\n",
    "print(brand_sales)"
   ]
  },
  {
   "cell_type": "markdown",
   "id": "c551000d-50fb-4c60-ae94-d9b7c7c9cc73",
   "metadata": {},
   "source": [
    "#### 5) Most and least Selling Brands"
   ]
  },
  {
   "cell_type": "code",
   "execution_count": 16,
   "id": "7913dc27-d494-4fd7-8fbd-2d6696d64608",
   "metadata": {},
   "outputs": [
    {
     "name": "stdout",
     "output_type": "stream",
     "text": [
      "Most Selling Brand:\n",
      "Brand        Dorito Corn Chp     Supreme \n",
      "TOT_SALES                         39052.0\n",
      "Name: 8, dtype: object\n",
      "\n",
      "Least Selling Brand:\n",
      "Brand        Woolworths Medium   Salsa \n",
      "TOT_SALES                        4050.0\n",
      "Name: 72, dtype: object\n"
     ]
    }
   ],
   "source": [
    "# Group by brand and calculate total sales\n",
    "brand_sales = transaction_data.groupby('Brand')['TOT_SALES'].sum().reset_index()\n",
    "\n",
    "# Sort the brands by total sales in descending order to find the most selling brand\n",
    "brand_sales_sorted = brand_sales.sort_values('TOT_SALES', ascending=False)\n",
    "\n",
    "# Most selling brand\n",
    "most_selling_brand = brand_sales_sorted.iloc[0]\n",
    "\n",
    "# Least selling brand\n",
    "least_selling_brand = brand_sales_sorted.iloc[-1]\n",
    "\n",
    "# Display the results\n",
    "print(\"Most Selling Brand:\")\n",
    "print(most_selling_brand)\n",
    "\n",
    "print(\"\\nLeast Selling Brand:\")\n",
    "print(least_selling_brand)"
   ]
  },
  {
   "cell_type": "markdown",
   "id": "5f84ab28-b436-41d8-a7b6-6d59c93e245d",
   "metadata": {},
   "source": [
    "#### 6) Most and Least Selling Products"
   ]
  },
  {
   "cell_type": "code",
   "execution_count": 17,
   "id": "beff2db9-7fed-47d9-8bc7-d019e50e3a77",
   "metadata": {},
   "outputs": [
    {
     "name": "stdout",
     "output_type": "stream",
     "text": [
      "Most Selling Product:\n",
      "PROD_NAME    Dorito Corn Chp     Supreme 380g\n",
      "TOT_SALES                             39052.0\n",
      "Name: 8, dtype: object\n",
      "\n",
      "Least Selling Product:\n",
      "PROD_NAME    Woolworths Medium   Salsa 300g\n",
      "TOT_SALES                            4050.0\n",
      "Name: 72, dtype: object\n"
     ]
    }
   ],
   "source": [
    "# Group by product and calculate total sales\n",
    "product_sales = transaction_data.groupby('PROD_NAME')['TOT_SALES'].sum().reset_index()\n",
    "\n",
    "# Sort the products by total sales in descending order to find the most selling product\n",
    "product_sales_sorted = product_sales.sort_values('TOT_SALES', ascending=False)\n",
    "\n",
    "# Most selling product\n",
    "most_selling_product = product_sales_sorted.iloc[0]\n",
    "\n",
    "# Least selling product\n",
    "least_selling_product = product_sales_sorted.iloc[-1]\n",
    "\n",
    "# Display the results\n",
    "print(\"Most Selling Product:\")\n",
    "print(most_selling_product)\n",
    "\n",
    "print(\"\\nLeast Selling Product:\")\n",
    "print(least_selling_product)"
   ]
  },
  {
   "cell_type": "markdown",
   "id": "1cfa9237-ced9-4bd4-b9a7-59a55f65603d",
   "metadata": {},
   "source": [
    "### Merging the datasets"
   ]
  },
  {
   "cell_type": "code",
   "execution_count": 23,
   "id": "cc040491-2357-4d0d-b62c-2bc708a0e3c9",
   "metadata": {},
   "outputs": [
    {
     "data": {
      "text/html": [
       "<div>\n",
       "<style scoped>\n",
       "    .dataframe tbody tr th:only-of-type {\n",
       "        vertical-align: middle;\n",
       "    }\n",
       "\n",
       "    .dataframe tbody tr th {\n",
       "        vertical-align: top;\n",
       "    }\n",
       "\n",
       "    .dataframe thead th {\n",
       "        text-align: right;\n",
       "    }\n",
       "</style>\n",
       "<table border=\"1\" class=\"dataframe\">\n",
       "  <thead>\n",
       "    <tr style=\"text-align: right;\">\n",
       "      <th></th>\n",
       "      <th>DATE</th>\n",
       "      <th>STORE_NBR</th>\n",
       "      <th>LYLTY_CARD_NBR</th>\n",
       "      <th>TXN_ID</th>\n",
       "      <th>PROD_NBR</th>\n",
       "      <th>PROD_NAME</th>\n",
       "      <th>PROD_QTY</th>\n",
       "      <th>TOT_SALES</th>\n",
       "      <th>Brand</th>\n",
       "      <th>Pack_Size</th>\n",
       "      <th>Avg_Spend_Per_Product</th>\n",
       "      <th>LIFESTAGE</th>\n",
       "      <th>PREMIUM_CUSTOMER</th>\n",
       "    </tr>\n",
       "  </thead>\n",
       "  <tbody>\n",
       "    <tr>\n",
       "      <th>0</th>\n",
       "      <td>43390</td>\n",
       "      <td>1</td>\n",
       "      <td>1000</td>\n",
       "      <td>1</td>\n",
       "      <td>5</td>\n",
       "      <td>Natural Chip        Compny SeaSalt175g</td>\n",
       "      <td>2</td>\n",
       "      <td>6.0</td>\n",
       "      <td>Natural Chip        Compny SeaSalt</td>\n",
       "      <td>175g</td>\n",
       "      <td>3.00</td>\n",
       "      <td>YOUNG SINGLES/COUPLES</td>\n",
       "      <td>Premium</td>\n",
       "    </tr>\n",
       "    <tr>\n",
       "      <th>1</th>\n",
       "      <td>43599</td>\n",
       "      <td>1</td>\n",
       "      <td>1307</td>\n",
       "      <td>348</td>\n",
       "      <td>66</td>\n",
       "      <td>CCs Nacho Cheese    175g</td>\n",
       "      <td>3</td>\n",
       "      <td>6.3</td>\n",
       "      <td>CCs Nacho Cheese</td>\n",
       "      <td>175g</td>\n",
       "      <td>2.10</td>\n",
       "      <td>MIDAGE SINGLES/COUPLES</td>\n",
       "      <td>Budget</td>\n",
       "    </tr>\n",
       "    <tr>\n",
       "      <th>2</th>\n",
       "      <td>43414</td>\n",
       "      <td>1</td>\n",
       "      <td>1307</td>\n",
       "      <td>346</td>\n",
       "      <td>96</td>\n",
       "      <td>WW Original Stacked Chips 160g</td>\n",
       "      <td>2</td>\n",
       "      <td>3.8</td>\n",
       "      <td>WW Original Stacked Chips</td>\n",
       "      <td>160g</td>\n",
       "      <td>1.90</td>\n",
       "      <td>MIDAGE SINGLES/COUPLES</td>\n",
       "      <td>Budget</td>\n",
       "    </tr>\n",
       "    <tr>\n",
       "      <th>3</th>\n",
       "      <td>43533</td>\n",
       "      <td>1</td>\n",
       "      <td>1307</td>\n",
       "      <td>347</td>\n",
       "      <td>54</td>\n",
       "      <td>CCs Original 175g</td>\n",
       "      <td>1</td>\n",
       "      <td>2.1</td>\n",
       "      <td>CCs Original</td>\n",
       "      <td>175g</td>\n",
       "      <td>2.10</td>\n",
       "      <td>MIDAGE SINGLES/COUPLES</td>\n",
       "      <td>Budget</td>\n",
       "    </tr>\n",
       "    <tr>\n",
       "      <th>4</th>\n",
       "      <td>43605</td>\n",
       "      <td>1</td>\n",
       "      <td>1343</td>\n",
       "      <td>383</td>\n",
       "      <td>61</td>\n",
       "      <td>Smiths Crinkle Cut  Chips Chicken 170g</td>\n",
       "      <td>2</td>\n",
       "      <td>2.9</td>\n",
       "      <td>Smiths Crinkle Cut  Chips Chicken</td>\n",
       "      <td>170g</td>\n",
       "      <td>1.45</td>\n",
       "      <td>MIDAGE SINGLES/COUPLES</td>\n",
       "      <td>Budget</td>\n",
       "    </tr>\n",
       "  </tbody>\n",
       "</table>\n",
       "</div>"
      ],
      "text/plain": [
       "    DATE  STORE_NBR  LYLTY_CARD_NBR  TXN_ID  PROD_NBR  \\\n",
       "0  43390          1            1000       1         5   \n",
       "1  43599          1            1307     348        66   \n",
       "2  43414          1            1307     346        96   \n",
       "3  43533          1            1307     347        54   \n",
       "4  43605          1            1343     383        61   \n",
       "\n",
       "                                PROD_NAME  PROD_QTY  TOT_SALES  \\\n",
       "0  Natural Chip        Compny SeaSalt175g         2        6.0   \n",
       "1                CCs Nacho Cheese    175g         3        6.3   \n",
       "2          WW Original Stacked Chips 160g         2        3.8   \n",
       "3                       CCs Original 175g         1        2.1   \n",
       "4  Smiths Crinkle Cut  Chips Chicken 170g         2        2.9   \n",
       "\n",
       "                                Brand Pack_Size  Avg_Spend_Per_Product  \\\n",
       "0  Natural Chip        Compny SeaSalt      175g                   3.00   \n",
       "1                CCs Nacho Cheese          175g                   2.10   \n",
       "2          WW Original Stacked Chips       160g                   1.90   \n",
       "3                       CCs Original       175g                   2.10   \n",
       "4  Smiths Crinkle Cut  Chips Chicken       170g                   1.45   \n",
       "\n",
       "                LIFESTAGE PREMIUM_CUSTOMER  \n",
       "0   YOUNG SINGLES/COUPLES          Premium  \n",
       "1  MIDAGE SINGLES/COUPLES           Budget  \n",
       "2  MIDAGE SINGLES/COUPLES           Budget  \n",
       "3  MIDAGE SINGLES/COUPLES           Budget  \n",
       "4  MIDAGE SINGLES/COUPLES           Budget  "
      ]
     },
     "execution_count": 23,
     "metadata": {},
     "output_type": "execute_result"
    }
   ],
   "source": [
    "merged_data = pd.merge(transaction_data, customer_data, on=\"LYLTY_CARD_NBR\", how=\"inner\")\n",
    "merged_data.head()"
   ]
  },
  {
   "cell_type": "code",
   "execution_count": 24,
   "id": "371737f3-58bd-4e9b-a48e-1b2e6275217a",
   "metadata": {},
   "outputs": [
    {
     "data": {
      "text/plain": [
       "DATE                     0\n",
       "STORE_NBR                0\n",
       "LYLTY_CARD_NBR           0\n",
       "TXN_ID                   0\n",
       "PROD_NBR                 0\n",
       "PROD_NAME                0\n",
       "PROD_QTY                 0\n",
       "TOT_SALES                0\n",
       "Brand                    0\n",
       "Pack_Size                0\n",
       "Avg_Spend_Per_Product    0\n",
       "LIFESTAGE                0\n",
       "PREMIUM_CUSTOMER         0\n",
       "dtype: int64"
      ]
     },
     "execution_count": 24,
     "metadata": {},
     "output_type": "execute_result"
    }
   ],
   "source": [
    "merged_data.isnull().sum()"
   ]
  },
  {
   "cell_type": "markdown",
   "id": "5d4980c2-bd9f-4b7b-8dbf-32df1abd99e7",
   "metadata": {},
   "source": [
    "### Segmenting Customers"
   ]
  },
  {
   "cell_type": "code",
   "execution_count": 27,
   "id": "4cb0c67c-9c45-4545-aad3-43c69c387d7e",
   "metadata": {},
   "outputs": [
    {
     "name": "stdout",
     "output_type": "stream",
     "text": [
      "                 LIFESTAGE PREMIUM_CUSTOMER  total_spend  avg_spend  \\\n",
      "0   MIDAGE SINGLES/COUPLES           Budget     24368.00   7.295808   \n",
      "1   MIDAGE SINGLES/COUPLES       Mainstream     63782.35   7.874364   \n",
      "2   MIDAGE SINGLES/COUPLES          Premium     40576.25   7.352102   \n",
      "3             NEW FAMILIES           Budget     15487.95   7.551414   \n",
      "4             NEW FAMILIES       Mainstream     12041.50   7.521237   \n",
      "5             NEW FAMILIES          Premium      8046.60   7.513165   \n",
      "6           OLDER FAMILIES           Budget    114992.65   7.513404   \n",
      "7           OLDER FAMILIES       Mainstream     70219.55   7.474936   \n",
      "8           OLDER FAMILIES          Premium     55799.70   7.431043   \n",
      "9    OLDER SINGLES/COUPLES           Budget     95652.30   7.641181   \n",
      "10   OLDER SINGLES/COUPLES       Mainstream     92645.50   7.519317   \n",
      "11   OLDER SINGLES/COUPLES          Premium     91919.75   7.682386   \n",
      "12                RETIREES           Budget     78966.30   7.689775   \n",
      "13                RETIREES       Mainstream    108268.55   7.496784   \n",
      "14                RETIREES          Premium     68500.55   7.696691   \n",
      "15          YOUNG FAMILIES           Budget     97318.55   7.510886   \n",
      "16          YOUNG FAMILIES       Mainstream     63671.75   7.381376   \n",
      "17          YOUNG FAMILIES          Premium     57333.20   7.511228   \n",
      "18   YOUNG SINGLES/COUPLES           Budget     42113.70   6.802407   \n",
      "19   YOUNG SINGLES/COUPLES       Mainstream    111673.40   7.771287   \n",
      "20   YOUNG SINGLES/COUPLES          Premium     28437.60   6.824478   \n",
      "\n",
      "    purchase_frequency  chips_qty  \n",
      "0                 3340       6321  \n",
      "1                 8100      15488  \n",
      "2                 5519      10462  \n",
      "3                 2051       3808  \n",
      "4                 1601       2977  \n",
      "5                 1071       2007  \n",
      "6                15305      29793  \n",
      "7                 9394      18296  \n",
      "8                 7509      14611  \n",
      "9                12518      23955  \n",
      "10               12321      23562  \n",
      "11               11965      22890  \n",
      "12               10269      19450  \n",
      "13               14442      27347  \n",
      "14                8900      16912  \n",
      "15               12957      25156  \n",
      "16                8626      16700  \n",
      "17                7633      14777  \n",
      "18                6191      11176  \n",
      "19               14370      26621  \n",
      "20                4167       7538  \n"
     ]
    }
   ],
   "source": [
    "customer_segments = merged_data.groupby(['LIFESTAGE', 'PREMIUM_CUSTOMER']).agg(\n",
    "    total_spend=('TOT_SALES', 'sum'),\n",
    "    avg_spend=('TOT_SALES', 'mean'),\n",
    "    purchase_frequency=('TXN_ID', 'count'),\n",
    "    chips_qty=('PROD_QTY', 'sum')\n",
    ").reset_index()\n",
    "\n",
    "print(customer_segments)"
   ]
  },
  {
   "cell_type": "markdown",
   "id": "fa059c2e-f149-4a22-9d8e-add1a09a6084",
   "metadata": {},
   "source": [
    "### Visualizing Key Metrics"
   ]
  },
  {
   "cell_type": "markdown",
   "id": "8938e1e3-38bb-4978-957f-aae2ed965978",
   "metadata": {},
   "source": [
    "#### 1) Total Spend by Customer Segment"
   ]
  },
  {
   "cell_type": "code",
   "execution_count": 28,
   "id": "0ffd2d2b-7aae-4fcd-be7c-8c5ac6ddb8d1",
   "metadata": {},
   "outputs": [
    {
     "data": {
      "image/png": "[encoded data removed]",
      "text/plain": [
       "<Figure size 1000x600 with 1 Axes>"
      ]
     },
     "metadata": {},
     "output_type": "display_data"
    }
   ],
   "source": [
    "# Group by lifestage and premium_customer, calculating total spend\n",
    "segment_spend = merged_data.groupby(['LIFESTAGE', 'PREMIUM_CUSTOMER']).agg(\n",
    "    total_spend=('TOT_SALES', 'sum')\n",
    ").reset_index()\n",
    "\n",
    "plt.figure(figsize=(10,6))\n",
    "sns.barplot(x='LIFESTAGE', y='total_spend', hue='PREMIUM_CUSTOMER', data=segment_spend, palette='Blues')\n",
    "plt.title('Total Spend on Chips by Lifestage and Premium Customer')\n",
    "plt.xlabel('Lifestage')\n",
    "plt.ylabel('Total Spend ($)')\n",
    "plt.legend(title='Premium Customer', loc='upper left')\n",
    "plt.xticks(rotation=45)\n",
    "plt.tight_layout()\n",
    "plt.show()"
   ]
  },
  {
   "cell_type": "markdown",
   "id": "41080895-fea1-4ca4-adf5-5fd35cb0c4ec",
   "metadata": {},
   "source": [
    "#### 2) Average Spend by Customer Segment"
   ]
  },
  {
   "cell_type": "code",
   "execution_count": 30,
   "id": "0459b3aa-0fe1-4d97-aed3-8d961530968d",
   "metadata": {},
   "outputs": [
    {
     "data": {
      "image/png": "[encoded data removed]",
      "text/plain": [
       "<Figure size 1000x600 with 1 Axes>"
      ]
     },
     "metadata": {},
     "output_type": "display_data"
    }
   ],
   "source": [
    "# Group by lifestage and premium_customer, calculating average spend\n",
    "segment_spend = merged_data.groupby(['LIFESTAGE', 'PREMIUM_CUSTOMER']).agg(\n",
    "    total_spend=('TOT_SALES', 'mean')\n",
    ").reset_index()\n",
    "\n",
    "plt.figure(figsize=(10,6))\n",
    "sns.barplot(x='LIFESTAGE', y='total_spend', hue='PREMIUM_CUSTOMER', data=segment_spend, palette='Blues')\n",
    "plt.title('Average Spend on Chips by Lifestage and Premium Customer')\n",
    "plt.xlabel('Lifestage')\n",
    "plt.ylabel('Average Spend ($)')\n",
    "plt.legend(title='Premium Customer', loc='upper left')\n",
    "plt.xticks(rotation=45)\n",
    "plt.tight_layout()\n",
    "plt.show()"
   ]
  },
  {
   "cell_type": "markdown",
   "id": "d12f46b5-a26f-4348-b418-c107c0e9ac29",
   "metadata": {},
   "source": [
    "#### 3) Spending Distribution Accross Customers"
   ]
  },
  {
   "cell_type": "code",
   "execution_count": 32,
   "id": "367d1a3e-010f-439e-a4b7-04923937b277",
   "metadata": {},
   "outputs": [
    {
     "data": {
      "image/png": "[encoded data removed]",
      "text/plain": [
       "<Figure size 1000x600 with 1 Axes>"
      ]
     },
     "metadata": {},
     "output_type": "display_data"
    }
   ],
   "source": [
    "# Calculate the frequency of purchases by segment\n",
    "purchase_freq = merged_data.groupby(['LIFESTAGE', 'PREMIUM_CUSTOMER'])['TXN_ID'].count().unstack().fillna(0)\n",
    "\n",
    "plt.figure(figsize=(10,6))\n",
    "sns.heatmap(purchase_freq, annot=True, fmt=\"d\", cmap='YlGnBu', cbar=False)\n",
    "plt.title('Chips Purchase Frequency by Lifestage and Premium Customer')\n",
    "plt.xlabel('Premium Customer')\n",
    "plt.ylabel('Lifestage')\n",
    "plt.tight_layout()\n",
    "plt.show()\n"
   ]
  },
  {
   "cell_type": "code",
   "execution_count": null,
   "id": "0742b547-a686-4cc7-837f-a8722f36c6d7",
   "metadata": {},
   "outputs": [],
   "source": []
  }
 ],
 "metadata": {
  "kernelspec": {
   "display_name": "Python 3 (ipykernel)",
   "language": "python",
   "name": "python3"
  },
  "language_info": {
   "codemirror_mode": {
    "name": "ipython",
    "version": 3
   },
   "file_extension": ".py",
   "mimetype": "text/x-python",
   "name": "python",
   "nbconvert_exporter": "python",
   "pygments_lexer": "ipython3",
   "version": "3.10.7"
  }
 },
 "nbformat": 4,
 "nbformat_minor": 5
}
